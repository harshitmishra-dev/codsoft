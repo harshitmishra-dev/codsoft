{
 "cells": [
  {
   "cell_type": "markdown",
   "id": "4491efcb",
   "metadata": {},
   "source": [
    "# Sales Prediction using Python\n",
    "### Internship Task 4\n",
    "Sales prediction is a crucial aspect of business analytics. In this task, we aim to build a machine learning model to predict sales based on advertising budgets for TV, Radio, and Newspaper."
   ]
  },
  {
   "cell_type": "code",
   "execution_count": null,
   "id": "2ebaa12f",
   "metadata": {},
   "outputs": [],
   "source": [
    "import pandas as pd\n",
    "import seaborn as sns\n",
    "import matplotlib.pyplot as plt\n",
    "from sklearn.model_selection import train_test_split\n",
    "from sklearn.linear_model import LinearRegression\n",
    "from sklearn.metrics import mean_squared_error, r2_score"
   ]
  },
  {
   "cell_type": "code",
   "execution_count": null,
   "id": "e79f0736",
   "metadata": {},
   "outputs": [],
   "source": [
    "# Load dataset\n",
    "df = pd.read_csv('advertising (1).csv')\n",
    "df.head()"
   ]
  },
  {
   "cell_type": "code",
   "execution_count": null,
   "id": "74770531",
   "metadata": {},
   "outputs": [],
   "source": [
    "# Basic info and description\n",
    "df.info()\n",
    "df.describe()"
   ]
  },
  {
   "cell_type": "code",
   "execution_count": null,
   "id": "e87622a8",
   "metadata": {},
   "outputs": [],
   "source": [
    "# Visualize relationships\n",
    "sns.pairplot(df)\n",
    "plt.show()"
   ]
  },
  {
   "cell_type": "code",
   "execution_count": null,
   "id": "57630b4a",
   "metadata": {},
   "outputs": [],
   "source": [
    "# Heatmap to show correlation\n",
    "sns.heatmap(df.corr(), annot=True, cmap='coolwarm')\n",
    "plt.title('Correlation Heatmap')\n",
    "plt.show()"
   ]
  },
  {
   "cell_type": "code",
   "execution_count": null,
   "id": "5a8e8beb",
   "metadata": {},
   "outputs": [],
   "source": [
    "# Splitting data\n",
    "X = df[['TV', 'Radio', 'Newspaper']]\n",
    "y = df['Sales']\n",
    "X_train, X_test, y_train, y_test = train_test_split(X, y, test_size=0.2, random_state=42)\n",
    "\n",
    "# Model training\n",
    "model = LinearRegression()\n",
    "model.fit(X_train, y_train)"
   ]
  },
  {
   "cell_type": "code",
   "execution_count": null,
   "id": "89dd092b",
   "metadata": {},
   "outputs": [],
   "source": [
    "# Predictions\n",
    "y_pred = model.predict(X_test)\n",
    "\n",
    "# Evaluation\n",
    "print('Mean Squared Error:', mean_squared_error(y_test, y_pred))\n",
    "print('R^2 Score:', r2_score(y_test, y_pred))"
   ]
  },
  {
   "cell_type": "code",
   "execution_count": null,
   "id": "6bfc4aa5",
   "metadata": {},
   "outputs": [],
   "source": [
    "# Model coefficients\n",
    "coeff_df = pd.DataFrame(model.coef_, X.columns, columns=['Coefficient'])\n",
    "print(coeff_df)\n",
    "print(f'Intercept: {model.intercept_}')"
   ]
  },
  {
   "cell_type": "markdown",
   "id": "4f62ae39",
   "metadata": {},
   "source": [
    "### Conclusion\n",
    "The model shows a good fit based on the R² score and low MSE. TV and Radio have higher influence on sales, while Newspaper shows a weaker correlation. This analysis helps businesses invest wisely in advertising channels to maximize sales."
   ]
  }
 ],
 "metadata": {},
 "nbformat": 4,
 "nbformat_minor": 5
}
