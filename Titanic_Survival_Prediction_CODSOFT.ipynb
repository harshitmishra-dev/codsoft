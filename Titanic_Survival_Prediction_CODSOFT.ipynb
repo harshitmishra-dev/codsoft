{
 "cells": [
  {
   "cell_type": "markdown",
   "id": "5afbd25d",
   "metadata": {},
   "source": [
    "# Titanic Survival Prediction\n",
    "**Data Science Internship Task - CODSOFT**\n",
    "\n",
    "This notebook predicts survival of Titanic passengers using Logistic Regression."
   ]
  },
  {
   "cell_type": "code",
   "execution_count": null,
   "id": "bc890542",
   "metadata": {},
   "outputs": [],
   "source": [
    "# Step 1: Import necessary libraries\n",
    "import pandas as pd\n",
    "import numpy as np\n",
    "from sklearn.model_selection import train_test_split\n",
    "from sklearn.linear_model import LogisticRegression\n",
    "from sklearn.metrics import accuracy_score, confusion_matrix\n",
    "from sklearn.preprocessing import LabelEncoder\n",
    "import seaborn as sns\n",
    "import matplotlib.pyplot as plt"
   ]
  },
  {
   "cell_type": "code",
   "execution_count": null,
   "id": "5040412f",
   "metadata": {},
   "outputs": [],
   "source": [
    "# Step 2: Load the dataset\n",
    "data = pd.read_csv(\"Titanic-Dataset.csv\")\n",
    "data.head()"
   ]
  },
  {
   "cell_type": "code",
   "execution_count": null,
   "id": "1ee29882",
   "metadata": {},
   "outputs": [],
   "source": [
    "# Step 3: Drop unimportant columns\n",
    "data.drop([\"Cabin\", \"Name\", \"Ticket\"], axis=1, inplace=True)\n",
    "\n",
    "# Fill missing values\n",
    "data[\"Age\"].fillna(data[\"Age\"].mean(), inplace=True)\n",
    "data[\"Embarked\"].fillna(data[\"Embarked\"].mode()[0], inplace=True)\n",
    "\n",
    "# Encode categorical columns\n",
    "le = LabelEncoder()\n",
    "data[\"Sex\"] = le.fit_transform(data[\"Sex\"])   # male = 1, female = 0\n",
    "data[\"Embarked\"] = le.fit_transform(data[\"Embarked\"])\n",
    "\n",
    "data.head()"
   ]
  },
  {
   "cell_type": "code",
   "execution_count": null,
   "id": "932586ec",
   "metadata": {},
   "outputs": [],
   "source": [
    "# Step 4: Split the dataset\n",
    "X = data.drop(\"Survived\", axis=1)\n",
    "y = data[\"Survived\"]\n",
    "\n",
    "X_train, X_test, y_train, y_test = train_test_split(X, y, test_size=0.2, random_state=42)"
   ]
  },
  {
   "cell_type": "code",
   "execution_count": null,
   "id": "013d5700",
   "metadata": {},
   "outputs": [],
   "source": [
    "# Step 5: Train the model\n",
    "model = LogisticRegression(max_iter=200)\n",
    "model.fit(X_train, y_train)"
   ]
  },
  {
   "cell_type": "code",
   "execution_count": null,
   "id": "85cfe046",
   "metadata": {},
   "outputs": [],
   "source": [
    "# Step 6: Predictions and accuracy\n",
    "y_pred = model.predict(X_test)\n",
    "acc = accuracy_score(y_test, y_pred)\n",
    "cm = confusion_matrix(y_test, y_pred)\n",
    "\n",
    "print(\"Model Accuracy:\", acc)\n",
    "print(\"Confusion Matrix:\\n\", cm)\n",
    "\n",
    "# Showing few actual vs predicted values\n",
    "print(\"\\nActual values  :\", y_test[:5].values)\n",
    "print(\"Predicted values:\", y_pred[:5])"
   ]
  },
  {
   "cell_type": "code",
   "execution_count": null,
   "id": "9392db52",
   "metadata": {},
   "outputs": [],
   "source": [
    "# Optional: Confusion matrix heatmap\n",
    "sns.heatmap(cm, annot=True, fmt=\"d\", cmap=\"Blues\")\n",
    "plt.xlabel(\"Predicted\")\n",
    "plt.ylabel(\"Actual\")\n",
    "plt.title(\"Confusion Matrix\")\n",
    "plt.show()"
   ]
  }
 ],
 "metadata": {},
 "nbformat": 4,
 "nbformat_minor": 5
}
